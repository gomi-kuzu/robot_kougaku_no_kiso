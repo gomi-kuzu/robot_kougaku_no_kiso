{
 "cells": [
  {
   "cell_type": "code",
   "execution_count": 1,
   "id": "cf0030a6-d057-4194-9d3a-6816e43f35ef",
   "metadata": {},
   "outputs": [],
   "source": [
    "using SymPy"
   ]
  },
  {
   "cell_type": "code",
   "execution_count": 2,
   "id": "de64a6cc-0948-415e-a32a-ce9e8be99eb6",
   "metadata": {},
   "outputs": [
    {
     "data": {
      "text/plain": [
       "(θ₁, θ₂, L₁, L₂)"
      ]
     },
     "execution_count": 2,
     "metadata": {},
     "output_type": "execute_result"
    }
   ],
   "source": [
    "@vars θ₁ θ₂ L₁ L₂"
   ]
  },
  {
   "cell_type": "code",
   "execution_count": 3,
   "id": "f3389566-0d43-49c9-be10-6f85749bf4af",
   "metadata": {},
   "outputs": [
    {
     "data": {
      "text/latex": [
       "$\\left[ \\begin{array}{rrr}0&0&0\\\\0&0&0\\\\0.1&0.1&0\\\\1&1&6.12323399573677 \\cdot 10^{-17}\\\\0&0&1.0\\\\0&0&0\\end{array}\\right]$\n"
      ],
      "text/plain": [
       "6×3 Matrix{Sym}:\n",
       "                 0                  0                     0\n",
       "                 0                  0                     0\n",
       " 0.100000000000000  0.100000000000000                     0\n",
       "                 1                  1  6.12323399573677e-17\n",
       "                 0                  0      1.00000000000000\n",
       "                 0                  0                     0"
      ]
     },
     "execution_count": 3,
     "metadata": {},
     "output_type": "execute_result"
    }
   ],
   "source": [
    "Jₐₗₚₕₐ = Sym[0 0 0;\n",
    "             0 0 0;\n",
    "             L₂*sin(θ₁ + θ₂)+L₁*sin(θ₁) L₂*sin(θ₂)  0;\n",
    "             1 cos(θ₁) cos(θ₁ + θ₂);\n",
    "             0 sin(θ₁) sin(θ₁ + θ₂);\n",
    "             0 0 0]\n",
    "Jₐₗₚₕₐ = Jₐₗₚₕₐ.subs(L₁, 0.1).subs(L₂, 0.1).subs(θ₁, 0).subs(θ₂, deg2rad(90))"
   ]
  },
  {
   "cell_type": "code",
   "execution_count": 4,
   "id": "f6785995-931b-4dbb-b2d9-a87d90d7ffc6",
   "metadata": {},
   "outputs": [
    {
     "data": {
      "text/latex": [
       "$\\left[ \\begin{array}{rrr}1&1&6.12323399573677 \\cdot 10^{-17}\\\\0&0&1.0\\\\0&0&0\\\\0&0&0\\\\0&0&0\\\\0&0&0\\end{array}\\right]$\n"
      ],
      "text/plain": [
       "6×3 Matrix{Sym}:\n",
       " 1  1  6.12323399573677e-17\n",
       " 0  0      1.00000000000000\n",
       " 0  0                     0\n",
       " 0  0                     0\n",
       " 0  0                     0\n",
       " 0  0                     0"
      ]
     },
     "execution_count": 4,
     "metadata": {},
     "output_type": "execute_result"
    }
   ],
   "source": [
    "Jₐ = Sym[1 cos(θ₁) cos(θ₁ + θ₂);\n",
    "        0 sin(θ₁) sin(θ₁ + θ₂);\n",
    "        0 0 0;\n",
    "        0 0 0;\n",
    "        0 0 0;\n",
    "        0 0 0]\n",
    "Jₐ = Jₐ.subs(L₁, 0.1).subs(L₂, 0.1).subs(θ₁, 0).subs(θ₂, deg2rad(90))"
   ]
  },
  {
   "cell_type": "code",
   "execution_count": 5,
   "id": "2cb179c6-99a1-4478-8ab2-063609eb8d73",
   "metadata": {},
   "outputs": [
    {
     "data": {
      "text/latex": [
       "$\\left[ \\begin{array}{rrr}-0.1&-0.1&0\\\\0.1&6.12323399573677 \\cdot 10^{-18}&0\\\\0&0&0\\\\0&0&0\\\\0&0&0\\\\1&1&1\\end{array}\\right]$\n"
      ],
      "text/plain": [
       "6×3 Matrix{Sym}:\n",
       " -0.100000000000000    -0.100000000000000  0\n",
       "  0.100000000000000  6.12323399573677e-18  0\n",
       "                  0                     0  0\n",
       "                  0                     0  0\n",
       "                  0                     0  0\n",
       "                  1                     1  1"
      ]
     },
     "execution_count": 5,
     "metadata": {},
     "output_type": "execute_result"
    }
   ],
   "source": [
    "Jₜₕₑₜₐ = Sym[-L₂*sin(θ₁ + θ₂)-L₁*sin(θ₁) -L₂*sin(θ₁ + θ₂) 0;\n",
    "             L₂*cos(θ₁ + θ₂)+L₁*cos(θ₁) L₂*cos(θ₁ + θ₂) 0;\n",
    "             0 0 0;\n",
    "             0 0 0;\n",
    "             0 0 0;\n",
    "             1 1 1]\n",
    "Jₜₕₑₜₐ = Jₜₕₑₜₐ.subs(L₁, 0.1).subs(L₂, 0.1).subs(θ₁, 0).subs(θ₂, deg2rad(90))"
   ]
  },
  {
   "cell_type": "code",
   "execution_count": 6,
   "id": "028fa8d2-1da6-44ac-b218-c04fe5b522a8",
   "metadata": {},
   "outputs": [
    {
     "data": {
      "text/latex": [
       "$\\left[ \\begin{array}{rrr}0&0&0\\\\0&0&0\\\\1&1&1\\\\0&0&0\\\\0&0&0\\\\0&0&0\\end{array}\\right]$\n"
      ],
      "text/plain": [
       "6×3 Matrix{Sym}:\n",
       " 0  0  0\n",
       " 0  0  0\n",
       " 1  1  1\n",
       " 0  0  0\n",
       " 0  0  0\n",
       " 0  0  0"
      ]
     },
     "execution_count": 6,
     "metadata": {},
     "output_type": "execute_result"
    }
   ],
   "source": [
    "Jd = Sym[0 0 0;\n",
    "         0 0 0;\n",
    "         1 1 1;\n",
    "         0 0 0;\n",
    "         0 0 0;\n",
    "         0 0 0]"
   ]
  },
  {
   "cell_type": "code",
   "execution_count": 7,
   "id": "911ac216-0ab8-4c75-bafd-0ef31d11c3bf",
   "metadata": {},
   "outputs": [
    {
     "data": {
      "text/latex": [
       "$\\left[ \\begin{array}{rrr}0&0&0\\\\0&0&0\\\\- L₁ \\cos{\\left(θ₁ \\right)} - L₂ \\cos{\\left(θ₁ + θ₂ \\right)}&- L₁ - L₂ \\cos{\\left(θ₂ \\right)}&- L₂\\\\0&- \\sin{\\left(θ₁ \\right)}&- \\sin{\\left(θ₁ + θ₂ \\right)}\\\\1&\\cos{\\left(θ₁ \\right)}&\\cos{\\left(θ₁ + θ₂ \\right)}\\\\0&0&0\\end{array}\\right]$\n"
      ],
      "text/plain": [
       "6×3 Matrix{Sym}:\n",
       "                             0                 0              0\n",
       "                             0                 0              0\n",
       " -L₁⋅cos(θ₁) - L₂⋅cos(θ₁ + θ₂)  -L₁ - L₂⋅cos(θ₂)            -L₂\n",
       "                             0          -sin(θ₁)  -sin(θ₁ + θ₂)\n",
       "                             1           cos(θ₁)   cos(θ₁ + θ₂)\n",
       "                             0                 0              0"
      ]
     },
     "execution_count": 7,
     "metadata": {},
     "output_type": "execute_result"
    }
   ],
   "source": [
    "Jᵦ = Sym[0 0 0;\n",
    "         0 0 0;\n",
    "        -L₂*cos(θ₁ + θ₂)-L₁*cos(θ₁) -L₂*cos(θ₂)-L₁ -L₂;\n",
    "         0 -sin(θ₁) -sin(θ₁ + θ₂);\n",
    "         1 cos(θ₁) cos(θ₁ + θ₂);\n",
    "         0 0 0]\n",
    "# Jᵦ = Jᵦ.subs(L₁, 0.1).subs(L₂, 0.1).subs(θ₁, 0).subs(θ₂, deg2rad(90))"
   ]
  },
  {
   "cell_type": "markdown",
   "id": "82dcdf60-8328-4d36-a8f7-49040ae2e142",
   "metadata": {
    "tags": []
   },
   "source": [
    "## a)\n",
    "$\\Delta\\alpha=\\Delta\\theta=\\Delta\\beta = [1, 1, 1]^T$[deg]\n",
    "\n",
    "$\\Delta a = \\Delta d = 0$"
   ]
  },
  {
   "cell_type": "code",
   "execution_count": 8,
   "id": "7a7d649c-1d5d-41ea-83a5-ddcd0b760b48",
   "metadata": {},
   "outputs": [
    {
     "data": {
      "text/plain": [
       "3-element Vector{Float64}:\n",
       " 0.017453292519943295\n",
       " 0.017453292519943295\n",
       " 0.017453292519943295"
      ]
     },
     "execution_count": 8,
     "metadata": {},
     "output_type": "execute_result"
    }
   ],
   "source": [
    "Δα = Δθ = Δβ = [deg2rad(1); deg2rad(1); deg2rad(1)]"
   ]
  },
  {
   "cell_type": "code",
   "execution_count": 9,
   "id": "10ec803d-3dd9-4c8a-8ae3-37542895a23b",
   "metadata": {},
   "outputs": [
    {
     "data": {
      "text/latex": [
       "$\\left[ \\begin{array}{r}-0.00349065850398866\\\\0.00174532925199433\\\\- 0.0174532925199433 L₁ \\cos{\\left(θ₁ \\right)} - 0.0174532925199433 L₁ - 0.0174532925199433 L₂ \\cos{\\left(θ₂ \\right)} - 0.0174532925199433 L₂ \\cos{\\left(θ₁ + θ₂ \\right)} - 0.0174532925199433 L₂ + 0.00349065850398866\\\\- 0.0174532925199433 \\sin{\\left(θ₁ \\right)} - 0.0174532925199433 \\sin{\\left(θ₁ + θ₂ \\right)} + 0.0349065850398866\\\\0.0174532925199433 \\cos{\\left(θ₁ \\right)} + 0.0174532925199433 \\cos{\\left(θ₁ + θ₂ \\right)} + 0.0349065850398866\\\\0.0523598775598299\\end{array} \\right]$\n"
      ],
      "text/plain": [
       "6-element Vector{Sym}:\n",
       "                                                                                                                                                      -0.00349065850398866\n",
       "                                                                                                                                                       0.00174532925199433\n",
       " -0.0174532925199433*L₁*cos(θ₁) - 0.0174532925199433*L₁ - 0.0174532925199433*L₂*cos(θ₂) - 0.0174532925199433*L₂*cos(θ₁ + θ₂) - 0.0174532925199433*L₂ + 0.00349065850398866\n",
       "                                                                                        -0.0174532925199433*sin(θ₁) - 0.0174532925199433*sin(θ₁ + θ₂) + 0.0349065850398866\n",
       "                                                                                         0.0174532925199433*cos(θ₁) + 0.0174532925199433*cos(θ₁ + θ₂) + 0.0349065850398866\n",
       "                                                                                                                                                        0.0523598775598299"
      ]
     },
     "execution_count": 9,
     "metadata": {},
     "output_type": "execute_result"
    }
   ],
   "source": [
    "Jₐₗₚₕₐ*Δα + Jₜₕₑₜₐ*Δθ + Jᵦ*Δβ"
   ]
  },
  {
   "cell_type": "markdown",
   "id": "a9bd43db-2ae4-42f2-8c39-444391a31b81",
   "metadata": {},
   "source": [
    "## b)\n",
    "$\\Delta\\alpha=\\Delta\\theta=\\Delta\\beta = 0$[deg]\n",
    "\n",
    "$\\Delta a = \\Delta d = [0.001, 0.001, 0.001]^T$[m]"
   ]
  },
  {
   "cell_type": "code",
   "execution_count": 10,
   "id": "120af7c7-c4e9-4a4a-ae98-fac6c24f7072",
   "metadata": {},
   "outputs": [
    {
     "data": {
      "text/plain": [
       "3-element Vector{Float64}:\n",
       " 0.001\n",
       " 0.001\n",
       " 0.001"
      ]
     },
     "execution_count": 10,
     "metadata": {},
     "output_type": "execute_result"
    }
   ],
   "source": [
    "Δa = Δd = [0.001;0.001;0.001]"
   ]
  },
  {
   "cell_type": "code",
   "execution_count": 11,
   "id": "980cefaa-c8c2-4ec1-af05-cdf64544d705",
   "metadata": {},
   "outputs": [
    {
     "data": {
      "text/latex": [
       "$\\left[ \\begin{array}{r}0.002\\\\0.001\\\\0.003\\\\0\\\\0\\\\0\\end{array} \\right]$\n"
      ],
      "text/plain": [
       "6-element Vector{Sym}:\n",
       " 0.00200000000000000\n",
       " 0.00100000000000000\n",
       " 0.00300000000000000\n",
       "                   0\n",
       "                   0\n",
       "                   0"
      ]
     },
     "execution_count": 11,
     "metadata": {},
     "output_type": "execute_result"
    }
   ],
   "source": [
    "Jₐ*Δa + Jd*Δd"
   ]
  },
  {
   "cell_type": "code",
   "execution_count": null,
   "id": "823b99b3-d030-4498-aaea-e8020e6d9afd",
   "metadata": {},
   "outputs": [],
   "source": []
  }
 ],
 "metadata": {
  "jupytext": {
   "encoding": "# -*- coding: utf-8 -*-",
   "text_representation": {
    "extension": ".py",
    "format_name": "light",
    "format_version": "1.5",
    "jupytext_version": "1.13.2"
   }
  },
  "kernelspec": {
   "display_name": "Julia 1.6.3",
   "language": "julia",
   "name": "julia-1.6"
  },
  "language_info": {
   "file_extension": ".jl",
   "mimetype": "application/julia",
   "name": "julia",
   "version": "1.6.3"
  }
 },
 "nbformat": 4,
 "nbformat_minor": 5
}

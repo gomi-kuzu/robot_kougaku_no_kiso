{
 "cells": [
  {
   "cell_type": "code",
   "execution_count": 166,
   "id": "696235ee-71bf-4d99-86f3-2355ca9bcb35",
   "metadata": {},
   "outputs": [],
   "source": [
    "from sympy import sin, cos, symbols, diff, Matrix\n",
    "from sympy import solve, simplify, trigsimp, factor\n",
    "from sympy.physics.mechanics import LagrangesMethod, Lagrangian\n",
    "from sympy.physics.mechanics import ReferenceFrame, Particle, Point, RigidBody, inertia\n",
    "from sympy.physics.mechanics import dynamicsymbols, kinetic_energy\n",
    "from sympy.physics.mechanics import mprint, mlatex"
   ]
  },
  {
   "cell_type": "markdown",
   "id": "abf7e047-0ec7-48fd-88a0-9c5499e8f3df",
   "metadata": {},
   "source": [
    "# 5.1 もっとガッツリsympy使って解く"
   ]
  },
  {
   "cell_type": "code",
   "execution_count": 154,
   "id": "c4b2d4dc-d707-4221-a459-e9765935c2b2",
   "metadata": {},
   "outputs": [],
   "source": [
    "t = symbols('t')\n",
    "m1, m2, l1, l2, g = symbols('m_1 m_2 l_1 l_2 g')\n",
    "theta, d, tau1, f2 = dynamicsymbols('theta_1 d_2 tau_1 f_2') #時間の変数\n",
    "I_z1, I_z2 = symbols('I_1 I_2')   \n",
    "q = Matrix([theta, d])\n",
    "qd = q.diff(t)"
   ]
  },
  {
   "cell_type": "code",
   "execution_count": 155,
   "id": "8b162d8e-51d5-4241-8d90-55db9d55e7fd",
   "metadata": {},
   "outputs": [],
   "source": [
    "N = ReferenceFrame('N') #世界座標系に名前をつける\n",
    "\n",
    "R = N.orientnew('R', 'Axis', [theta, N.z]) #１軸目の回転座標系\n",
    "\n",
    "O = Point('O') #原点\n",
    "P1 = Point('P1') #質点\n",
    "P2 = Point('P2')"
   ]
  },
  {
   "cell_type": "code",
   "execution_count": 156,
   "id": "942aae29-74fd-42a9-a5e6-72cbef440bd2",
   "metadata": {},
   "outputs": [],
   "source": [
    "#質点の位置を一般化座標で書く\n",
    "x1 = l1*sin(theta)\n",
    "y1 = -l1*cos(theta)\n",
    "x2 = (d - l2) * sin(theta)\n",
    "y2 = -(d -l2) * cos(theta)"
   ]
  },
  {
   "cell_type": "code",
   "execution_count": 157,
   "id": "1465df40-f67c-43c3-9e67-639dc1030c9d",
   "metadata": {},
   "outputs": [],
   "source": [
    "# 質点の定義\n",
    "# Pa1 = Particle('Pa1', P1, m1)\n",
    "# Pa2 = Particle('Pa2', P2, m2)\n",
    "\n",
    "#速度\n",
    "vx1 = diff(x1, t)\n",
    "vy1 = diff(y1, t)\n",
    "vx2 = diff(x2, t)\n",
    "vy2 = diff(y2, t)\n",
    "\n",
    "O.set_vel(N, 0)\n",
    "P1.set_vel(N, vx1 * N.x + vy1 * N.y) #N.xやN.yは単位ベクトル\n",
    "P2.set_vel(N, vx2 * N.x + vy2 * N.y)"
   ]
  },
  {
   "cell_type": "code",
   "execution_count": 158,
   "id": "387fa7d9-2d91-4560-88a3-071dbb6dd93f",
   "metadata": {},
   "outputs": [],
   "source": [
    "I_1 = inertia(R, 1, 1, I_z1)\n",
    "I_2 = inertia(R, 1, 1, I_z2)\n",
    "\n",
    "# リンクの剛体情報\n",
    "L1 = RigidBody('L1', P1, R , m1, (I_1, P1))\n",
    "L2 = RigidBody('L2', P2, R, m2, (I_2, P2))"
   ]
  },
  {
   "cell_type": "code",
   "execution_count": 159,
   "id": "4a774dd9-fe68-471a-a97e-35b65a000063",
   "metadata": {},
   "outputs": [],
   "source": [
    "# ポテンシャルエネルギ\n",
    "# Pa1.potential_energy = - m1 * g * cos(theta)*l1\n",
    "# Pa2.potential_energy = - m2 * g * cos(theta)*(d - l2)\n",
    "L1.potential_energy = - m1 * g * cos(theta)*l1\n",
    "L2.potential_energy = - m2 * g * cos(theta)*(d - l2)"
   ]
  },
  {
   "cell_type": "code",
   "execution_count": 160,
   "id": "253e348e-2dcc-442c-a1e6-231a7528f4ee",
   "metadata": {},
   "outputs": [],
   "source": [
    "fl = [(R, tau1*R.z), (P2, sin(theta)*f2*N.x-cos(theta)*f2*N.y)]"
   ]
  },
  {
   "cell_type": "code",
   "execution_count": 161,
   "id": "99c1e930-780b-459c-8bb6-63d291bbdc7f",
   "metadata": {},
   "outputs": [],
   "source": [
    "LL = Lagrangian(N, L1, L2)\n",
    "LM = LagrangesMethod(LL, q, forcelist = fl, frame = N)\n",
    "\n",
    "eom = simplify(LM.form_lagranges_equations())\n",
    "f = simplify(LM.rhs())"
   ]
  },
  {
   "cell_type": "code",
   "execution_count": 167,
   "id": "5030fd85-d592-42e3-a005-cd40ff115776",
   "metadata": {},
   "outputs": [
    {
     "data": {
      "text/latex": [
       "$\\displaystyle \\left[\\begin{matrix}I_{1} \\frac{d^{2}}{d t^{2}} \\theta_{1}{\\left(t \\right)} + I_{2} \\frac{d^{2}}{d t^{2}} \\theta_{1}{\\left(t \\right)} + g l_{1} m_{1} \\sin{\\left(\\theta_{1}{\\left(t \\right)} \\right)} - g l_{2} m_{2} \\sin{\\left(\\theta_{1}{\\left(t \\right)} \\right)} + g m_{2} \\operatorname{d_{2}}{\\left(t \\right)} \\sin{\\left(\\theta_{1}{\\left(t \\right)} \\right)} + l_{1}^{2} m_{1} \\frac{d^{2}}{d t^{2}} \\theta_{1}{\\left(t \\right)} + l_{2}^{2} m_{2} \\frac{d^{2}}{d t^{2}} \\theta_{1}{\\left(t \\right)} - 2 l_{2} m_{2} \\operatorname{d_{2}}{\\left(t \\right)} \\frac{d^{2}}{d t^{2}} \\theta_{1}{\\left(t \\right)} - 2 l_{2} m_{2} \\frac{d}{d t} \\operatorname{d_{2}}{\\left(t \\right)} \\frac{d}{d t} \\theta_{1}{\\left(t \\right)} + m_{2} \\operatorname{d_{2}}^{2}{\\left(t \\right)} \\frac{d^{2}}{d t^{2}} \\theta_{1}{\\left(t \\right)} + 2 m_{2} \\operatorname{d_{2}}{\\left(t \\right)} \\frac{d}{d t} \\operatorname{d_{2}}{\\left(t \\right)} \\frac{d}{d t} \\theta_{1}{\\left(t \\right)} - \\tau_{1}{\\left(t \\right)}\\\\- g m_{2} \\cos{\\left(\\theta_{1}{\\left(t \\right)} \\right)} + l_{2} m_{2} \\left(\\frac{d}{d t} \\theta_{1}{\\left(t \\right)}\\right)^{2} - m_{2} \\operatorname{d_{2}}{\\left(t \\right)} \\left(\\frac{d}{d t} \\theta_{1}{\\left(t \\right)}\\right)^{2} + m_{2} \\frac{d^{2}}{d t^{2}} \\operatorname{d_{2}}{\\left(t \\right)} - \\operatorname{f_{2}}{\\left(t \\right)}\\end{matrix}\\right]$"
      ],
      "text/plain": [
       "Matrix([\n",
       "[I_1*Derivative(theta_1(t), (t, 2)) + I_2*Derivative(theta_1(t), (t, 2)) + g*l_1*m_1*sin(theta_1(t)) - g*l_2*m_2*sin(theta_1(t)) + g*m_2*d_2(t)*sin(theta_1(t)) + l_1**2*m_1*Derivative(theta_1(t), (t, 2)) + l_2**2*m_2*Derivative(theta_1(t), (t, 2)) - 2*l_2*m_2*d_2(t)*Derivative(theta_1(t), (t, 2)) - 2*l_2*m_2*Derivative(d_2(t), t)*Derivative(theta_1(t), t) + m_2*d_2(t)**2*Derivative(theta_1(t), (t, 2)) + 2*m_2*d_2(t)*Derivative(d_2(t), t)*Derivative(theta_1(t), t) - tau_1(t)],\n",
       "[                                                                                                                                                                                                                                                                                                                                            -g*m_2*cos(theta_1(t)) + l_2*m_2*Derivative(theta_1(t), t)**2 - m_2*d_2(t)*Derivative(theta_1(t), t)**2 + m_2*Derivative(d_2(t), (t, 2)) - f_2(t)]])"
      ]
     },
     "execution_count": 167,
     "metadata": {},
     "output_type": "execute_result"
    }
   ],
   "source": [
    "trigsimp((factor(eom)))"
   ]
  },
  {
   "cell_type": "code",
   "execution_count": 168,
   "id": "b2cbcd2a-7311-4249-a466-72144b27830e",
   "metadata": {},
   "outputs": [
    {
     "name": "stdout",
     "output_type": "stream",
     "text": [
      "\\left[\\begin{matrix}I_{1} \\ddot{\\theta}_{1} + I_{2} \\ddot{\\theta}_{1} + g l_{1} m_{1} \\sin{\\left(\\theta_{1} \\right)} - g l_{2} m_{2} \\sin{\\left(\\theta_{1} \\right)} + g m_{2} d_{2} \\sin{\\left(\\theta_{1} \\right)} + l_{1}^{2} m_{1} \\ddot{\\theta}_{1} + l_{2}^{2} m_{2} \\ddot{\\theta}_{1} - 2 l_{2} m_{2} d_{2} \\ddot{\\theta}_{1} - 2 l_{2} m_{2} \\dot{d}_{2} \\dot{\\theta}_{1} + m_{2} d_{2}^{2} \\ddot{\\theta}_{1} + 2 m_{2} d_{2} \\dot{d}_{2} \\dot{\\theta}_{1} - \\tau_{1}\\\\- g m_{2} \\cos{\\left(\\theta_{1} \\right)} + l_{2} m_{2} \\dot{\\theta}_{1}^{2} - m_{2} d_{2} \\dot{\\theta}_{1}^{2} + m_{2} \\ddot{d}_{2} - f_{2}\\end{matrix}\\right]\n"
     ]
    }
   ],
   "source": [
    "# tex形式で出力\n",
    "print(mlatex(eom))"
   ]
  },
  {
   "cell_type": "markdown",
   "id": "01740f08-ed69-442b-9d93-c090e599bb21",
   "metadata": {},
   "source": [
    "運動方程式は\n",
    "$$\n",
    "\\left[\\begin{matrix}I_{1} \\ddot{\\theta}_{1} + I_{2} \\ddot{\\theta}_{1} + g l_{1} m_{1} \\sin{\\left(\\theta_{1} \\right)} - g l_{2} m_{2} \\sin{\\left(\\theta_{1} \\right)} + g m_{2} d_{2} \\sin{\\left(\\theta_{1} \\right)} + l_{1}^{2} m_{1} \\ddot{\\theta}_{1} + l_{2}^{2} m_{2} \\ddot{\\theta}_{1} - 2 l_{2} m_{2} d_{2} \\ddot{\\theta}_{1} - 2 l_{2} m_{2} \\dot{d}_{2} \\dot{\\theta}_{1} + m_{2} d_{2}^{2} \\ddot{\\theta}_{1} + 2 m_{2} d_{2} \\dot{d}_{2} \\dot{\\theta}_{1} - \\tau_{1}\\\\- g m_{2} \\cos{\\left(\\theta_{1} \\right)} + l_{2} m_{2} \\dot{\\theta}_{1}^{2} - m_{2} d_{2} \\dot{\\theta}_{1}^{2} + m_{2} \\ddot{d}_{2} - f_{2}\\end{matrix}\\right] = \\left[\\begin{matrix} 0 \\\\ 0 \\end{matrix}\\right]\n",
    "$$"
   ]
  },
  {
   "cell_type": "code",
   "execution_count": null,
   "id": "635d2cee-ed7e-4419-bd32-fd87412787e8",
   "metadata": {},
   "outputs": [],
   "source": []
  }
 ],
 "metadata": {
  "jupytext": {
   "text_representation": {
    "extension": ".py",
    "format_name": "light",
    "format_version": "1.5",
    "jupytext_version": "1.13.2"
   }
  },
  "kernelspec": {
   "display_name": "Python 3 (ipykernel)",
   "language": "python",
   "name": "python3"
  },
  "language_info": {
   "codemirror_mode": {
    "name": "ipython",
    "version": 3
   },
   "file_extension": ".py",
   "mimetype": "text/x-python",
   "name": "python",
   "nbconvert_exporter": "python",
   "pygments_lexer": "ipython3",
   "version": "3.9.7"
  }
 },
 "nbformat": 4,
 "nbformat_minor": 5
}

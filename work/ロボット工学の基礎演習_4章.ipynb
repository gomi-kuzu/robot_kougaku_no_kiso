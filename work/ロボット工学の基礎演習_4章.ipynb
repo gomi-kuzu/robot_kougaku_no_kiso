{
 "cells": [
  {
   "cell_type": "code",
   "execution_count": 2,
   "id": "be86251b-c322-4bde-b170-4ed2cab42b49",
   "metadata": {},
   "outputs": [],
   "source": [
    "using SymPy"
   ]
  },
  {
   "cell_type": "markdown",
   "id": "c13643b2-d6d8-4050-9487-85a7489c510b",
   "metadata": {},
   "source": [
    "# 4.5"
   ]
  },
  {
   "cell_type": "markdown",
   "id": "bf08d0d0-daec-4ee5-8a41-3a4a44123806",
   "metadata": {},
   "source": [
    "図4.26よりDHパラは↓こんなカンジ\n",
    "\n",
    "|  $i$  |  $a_i$   | $\\alpha_i$ | $d_i$ | $\\theta_i$|\n",
    "| --- | --- | -------- | -------- | -------- |\n",
    "|   1  |  0   |   0       |      0    |    $\\theta_1$ |\n",
    "|   2  |  $L_a$   |  0    |     0     |    $\\theta_2$      |\n",
    "|   3  |  $L_b$   |   $\\pi$       |     $d_3$     |     0     |\n",
    "|    4 |  0   |  0     |  0    | $\\theta_4$   |"
   ]
  },
  {
   "cell_type": "code",
   "execution_count": 3,
   "id": "1f9bfd25-c12e-4869-a8ce-46fe06d1721f",
   "metadata": {},
   "outputs": [
    {
     "data": {
      "text/plain": [
       "(θ₁, θ₂, d₃, θ₄, Lₐ, Lᵦ)"
      ]
     },
     "execution_count": 3,
     "metadata": {},
     "output_type": "execute_result"
    }
   ],
   "source": [
    "@vars θ₁ θ₂ d₃ θ₄ Lₐ Lᵦ  "
   ]
  },
  {
   "cell_type": "code",
   "execution_count": 4,
   "id": "0599a35a-f2c5-4c72-b1a7-943622340117",
   "metadata": {},
   "outputs": [
    {
     "data": {
      "text/latex": [
       "$\\left[ \\begin{array}{rrrr}\\cos{\\left(θ₁ \\right)}&- \\sin{\\left(θ₁ \\right)}&0&0\\\\\\sin{\\left(θ₁ \\right)}&\\cos{\\left(θ₁ \\right)}&0&0\\\\0&0&1&0\\\\0&0&0&1\\end{array}\\right]$\n"
      ],
      "text/plain": [
       "4×4 Matrix{Sym}:\n",
       " cos(θ₁)  -sin(θ₁)  0  0\n",
       " sin(θ₁)   cos(θ₁)  0  0\n",
       "       0         0  1  0\n",
       "       0         0  0  1"
      ]
     },
     "execution_count": 4,
     "metadata": {},
     "output_type": "execute_result"
    }
   ],
   "source": [
    "_⁰T₁=Sym[cos(θ₁) -sin(θ₁) 0 0;\n",
    "     sin(θ₁) cos(θ₁)  0 0;\n",
    "    0        0       1  0;\n",
    "    0        0       0  1]"
   ]
  },
  {
   "cell_type": "code",
   "execution_count": 5,
   "id": "3ddd8dc8-64e8-4d5b-ba6b-c239f78e562f",
   "metadata": {},
   "outputs": [
    {
     "data": {
      "text/latex": [
       "$\\left[ \\begin{array}{rrrr}\\cos{\\left(θ₂ \\right)}&- \\sin{\\left(θ₂ \\right)}&0&Lₐ\\\\\\sin{\\left(θ₂ \\right)}&\\cos{\\left(θ₂ \\right)}&0&0\\\\0&0&1&0\\\\0&0&0&1\\end{array}\\right]$\n"
      ],
      "text/plain": [
       "4×4 Matrix{Sym}:\n",
       " cos(θ₂)  -sin(θ₂)  0  Lₐ\n",
       " sin(θ₂)   cos(θ₂)  0   0\n",
       "       0         0  1   0\n",
       "       0         0  0   1"
      ]
     },
     "execution_count": 5,
     "metadata": {},
     "output_type": "execute_result"
    }
   ],
   "source": [
    "_¹T₂=Sym[cos(θ₂) -sin(θ₂) 0 Lₐ;\n",
    "     sin(θ₂) cos(θ₂)  0 0;\n",
    "    0        0       1  0;\n",
    "    0        0       0  1]"
   ]
  },
  {
   "cell_type": "code",
   "execution_count": 6,
   "id": "1cfe5f53-2a26-4c72-a8e9-2c7ed7fce32d",
   "metadata": {},
   "outputs": [
    {
     "data": {
      "text/latex": [
       "$\\left[ \\begin{array}{rrrr}1&0&0&Lᵦ\\\\0&-1&0&0\\\\0&0&-1&- d₃\\\\0&0&0&1\\end{array}\\right]$\n"
      ],
      "text/plain": [
       "4×4 Matrix{Sym}:\n",
       " 1   0   0   Lᵦ\n",
       " 0  -1   0    0\n",
       " 0   0  -1  -d₃\n",
       " 0   0   0    1"
      ]
     },
     "execution_count": 6,
     "metadata": {},
     "output_type": "execute_result"
    }
   ],
   "source": [
    "_²T₃=Sym[1 0 0 Lᵦ;\n",
    "     0 -1  0 0;\n",
    "    0  0 -1  -d₃;\n",
    "    0  0  0  1]"
   ]
  },
  {
   "cell_type": "code",
   "execution_count": 7,
   "id": "cd88a374-65c2-4219-8b57-39e6ad04997c",
   "metadata": {},
   "outputs": [
    {
     "data": {
      "text/latex": [
       "$\\left[ \\begin{array}{rrrr}\\cos{\\left(θ₄ \\right)}&- \\sin{\\left(θ₄ \\right)}&0&0\\\\\\sin{\\left(θ₄ \\right)}&\\cos{\\left(θ₄ \\right)}&0&0\\\\0&0&1&0\\\\0&0&0&1\\end{array}\\right]$\n"
      ],
      "text/plain": [
       "4×4 Matrix{Sym}:\n",
       " cos(θ₄)  -sin(θ₄)  0  0\n",
       " sin(θ₄)   cos(θ₄)  0  0\n",
       "       0         0  1  0\n",
       "       0         0  0  1"
      ]
     },
     "execution_count": 7,
     "metadata": {},
     "output_type": "execute_result"
    }
   ],
   "source": [
    "_³T₄=Sym[cos(θ₄) -sin(θ₄) 0 0;\n",
    "     sin(θ₄) cos(θ₄)  0 0;\n",
    "    0        0       1  0;\n",
    "    0        0       0  1]"
   ]
  },
  {
   "cell_type": "code",
   "execution_count": 10,
   "id": "08e94dfb-9038-47b6-b1d3-7af64826a685",
   "metadata": {},
   "outputs": [
    {
     "data": {
      "text/latex": [
       "$\\left[\\begin{smallmatrix}\\cos{\\left(θ₁ + θ₂ - θ₄ \\right)} & \\sin{\\left(θ₁ + θ₂ - θ₄ \\right)} & 0 & Lᵦ \\cos{\\left(θ₁ + θ₂ \\right)} + Lₐ \\cos{\\left(θ₁ \\right)}\\\\\\sin{\\left(θ₁ + θ₂ - θ₄ \\right)} & - \\cos{\\left(θ₁ + θ₂ - θ₄ \\right)} & 0 & Lᵦ \\sin{\\left(θ₁ + θ₂ \\right)} + Lₐ \\sin{\\left(θ₁ \\right)}\\\\0 & 0 & -1 & - d₃\\\\0 & 0 & 0 & 1\\end{smallmatrix}\\right]$"
      ],
      "text/plain": [
       "⎡cos(θ₁ + θ₂ - θ₄)  sin(θ₁ + θ₂ - θ₄)   0   Lᵦ⋅cos(θ₁ + θ₂) + Lₐ⋅cos(θ₁)⎤\n",
       "⎢                                                                       ⎥\n",
       "⎢sin(θ₁ + θ₂ - θ₄)  -cos(θ₁ + θ₂ - θ₄)  0   Lᵦ⋅sin(θ₁ + θ₂) + Lₐ⋅sin(θ₁)⎥\n",
       "⎢                                                                       ⎥\n",
       "⎢        0                  0           -1              -d₃             ⎥\n",
       "⎢                                                                       ⎥\n",
       "⎣        0                  0           0                1              ⎦"
      ]
     },
     "metadata": {},
     "output_type": "display_data"
    }
   ],
   "source": [
    "_⁰T₄ = _⁰T₁ * _¹T₂ *_²T₃ * _³T₄\n",
    "display(sympy.trigsimp((sympy.factor(_⁰T₄))))"
   ]
  },
  {
   "cell_type": "markdown",
   "id": "fd3da12f-0533-4243-b2fc-7f5bdeececa8",
   "metadata": {},
   "source": [
    "# 4.6"
   ]
  },
  {
   "cell_type": "markdown",
   "id": "63d23e08-6725-43e2-a2d7-b5a05fadb1ae",
   "metadata": {},
   "source": [
    "$^0T_4$より$(x,y,z)^T$は"
   ]
  },
  {
   "cell_type": "code",
   "execution_count": 12,
   "id": "a35aaec9-3123-471a-aec7-caa173615205",
   "metadata": {},
   "outputs": [
    {
     "data": {
      "text/latex": [
       "$\\left[\\begin{smallmatrix}Lᵦ \\cos{\\left(θ₁ + θ₂ \\right)} + Lₐ \\cos{\\left(θ₁ \\right)}\\\\Lᵦ \\sin{\\left(θ₁ + θ₂ \\right)} + Lₐ \\sin{\\left(θ₁ \\right)}\\\\- d₃\\end{smallmatrix}\\right]$"
      ],
      "text/plain": [
       "⎡Lᵦ⋅cos(θ₁ + θ₂) + Lₐ⋅cos(θ₁)⎤\n",
       "⎢                            ⎥\n",
       "⎢Lᵦ⋅sin(θ₁ + θ₂) + Lₐ⋅sin(θ₁)⎥\n",
       "⎢                            ⎥\n",
       "⎣            -d₃             ⎦"
      ]
     },
     "execution_count": 12,
     "metadata": {},
     "output_type": "execute_result"
    }
   ],
   "source": [
    "sympy.trigsimp((sympy.factor(_⁰T₄[1:3,4])))"
   ]
  },
  {
   "cell_type": "markdown",
   "id": "859dd340-c946-4dc3-a66d-17221171c484",
   "metadata": {},
   "source": [
    "加えてこのロボットでは姿勢を１軸制御できてそれは図より\n",
    "$\\theta_1 + \\theta_2 - \\theta_4$\n",
    "これらを$q$としてまとめる"
   ]
  },
  {
   "cell_type": "code",
   "execution_count": 14,
   "id": "bbc97ba1-caf5-47f6-9485-bd1c5d9ec620",
   "metadata": {},
   "outputs": [
    {
     "data": {
      "text/latex": [
       "$\\left[\\begin{smallmatrix}Lᵦ \\cos{\\left(θ₁ + θ₂ \\right)} + Lₐ \\cos{\\left(θ₁ \\right)}\\\\Lᵦ \\sin{\\left(θ₁ + θ₂ \\right)} + Lₐ \\sin{\\left(θ₁ \\right)}\\\\- d₃\\\\θ₁ + θ₂ - θ₄\\end{smallmatrix}\\right]$"
      ],
      "text/plain": [
       "⎡Lᵦ⋅cos(θ₁ + θ₂) + Lₐ⋅cos(θ₁)⎤\n",
       "⎢                            ⎥\n",
       "⎢Lᵦ⋅sin(θ₁ + θ₂) + Lₐ⋅sin(θ₁)⎥\n",
       "⎢                            ⎥\n",
       "⎢            -d₃             ⎥\n",
       "⎢                            ⎥\n",
       "⎣        θ₁ + θ₂ - θ₄        ⎦"
      ]
     },
     "execution_count": 14,
     "metadata": {},
     "output_type": "execute_result"
    }
   ],
   "source": [
    "q = [_⁰T₄[1:3,4]; θ₁+θ₂-θ₄]\n",
    "sympy.trigsimp((sympy.factor(q)))"
   ]
  },
  {
   "cell_type": "markdown",
   "id": "d72c615f-7437-48e9-b8ad-f5cd6811fe6c",
   "metadata": {},
   "source": [
    "するとヤコビアンJは"
   ]
  },
  {
   "cell_type": "code",
   "execution_count": 15,
   "id": "dde26b4e-57bf-40d8-bb86-43f12aec5976",
   "metadata": {},
   "outputs": [
    {
     "data": {
      "text/latex": [
       "$\\left[\\begin{smallmatrix}- Lᵦ \\sin{\\left(θ₁ + θ₂ \\right)} - Lₐ \\sin{\\left(θ₁ \\right)} & - Lᵦ \\sin{\\left(θ₁ + θ₂ \\right)} & 0 & 0\\\\Lᵦ \\cos{\\left(θ₁ + θ₂ \\right)} + Lₐ \\cos{\\left(θ₁ \\right)} & Lᵦ \\cos{\\left(θ₁ + θ₂ \\right)} & 0 & 0\\\\0 & 0 & -1 & 0\\\\1 & 1 & 0 & -1\\end{smallmatrix}\\right]$"
      ],
      "text/plain": [
       "⎡-Lᵦ⋅sin(θ₁ + θ₂) - Lₐ⋅sin(θ₁)  -Lᵦ⋅sin(θ₁ + θ₂)  0   0 ⎤\n",
       "⎢                                                       ⎥\n",
       "⎢Lᵦ⋅cos(θ₁ + θ₂) + Lₐ⋅cos(θ₁)   Lᵦ⋅cos(θ₁ + θ₂)   0   0 ⎥\n",
       "⎢                                                       ⎥\n",
       "⎢              0                       0          -1  0 ⎥\n",
       "⎢                                                       ⎥\n",
       "⎣              1                       1          0   -1⎦"
      ]
     },
     "execution_count": 15,
     "metadata": {},
     "output_type": "execute_result"
    }
   ],
   "source": [
    "J = Sym[diff.(q, θ₁) diff.(q, θ₂) diff.(q, d₃) diff.(q, θ₄)]\n",
    "J = sympy.trigsimp((sympy.factor(J)))"
   ]
  },
  {
   "cell_type": "markdown",
   "id": "ce72d810-bcf9-4e3a-af83-a8d88f75de2a",
   "metadata": {},
   "source": [
    "## 補足\n",
    "ある姿勢をとったときのヤコビアンをsympyで求めるには\n",
    "- 例\n",
    "    - $q = [\\pi/2~~\\pi/4~~0.1~-\\pi/4]^T$, $L_a=0.5, L_b=0.3$のとき"
   ]
  },
  {
   "cell_type": "code",
   "execution_count": 16,
   "id": "258354d6-65e8-4d41-8976-c05ed7e430be",
   "metadata": {},
   "outputs": [
    {
     "data": {
      "text/latex": [
       "$\\left[\\begin{smallmatrix}-0.712132034355964 & -0.212132034355964 & 0 & 0\\\\-0.212132034355964 & -0.212132034355964 & 0 & 0\\\\0 & 0 & -1 & 0\\\\1 & 1 & 0 & -1\\end{smallmatrix}\\right]$"
      ],
      "text/plain": [
       "⎡-0.712132034355964  -0.212132034355964  0   0 ⎤\n",
       "⎢                                              ⎥\n",
       "⎢-0.212132034355964  -0.212132034355964  0   0 ⎥\n",
       "⎢                                              ⎥\n",
       "⎢        0                   0           -1  0 ⎥\n",
       "⎢                                              ⎥\n",
       "⎣        1                   1           0   -1⎦"
      ]
     },
     "execution_count": 16,
     "metadata": {},
     "output_type": "execute_result"
    }
   ],
   "source": [
    "J_act = J.subs(Lₐ, 0.5).subs(Lᵦ, 0.3).subs(θ₁, pi/2).subs(θ₂, pi/4).subs(d₃, 0.1).subs(θ₄, -pi/4)\n",
    "#一気に渡す方法がありそう"
   ]
  },
  {
   "cell_type": "markdown",
   "id": "e57c6d74-4c98-4865-b098-a3ec6c29fde5",
   "metadata": {},
   "source": [
    "- この行列は同じsymmatrix型の行列とは行列計算ができるが、普通のArray型とは計算できない？"
   ]
  },
  {
   "cell_type": "code",
   "execution_count": 30,
   "id": "52d6e1db-e03c-4f07-b8e1-af90a65da9bf",
   "metadata": {},
   "outputs": [
    {
     "data": {
      "text/latex": [
       "$\\left[\\begin{smallmatrix}-0.924264068711929\\\\-0.424264068711928\\\\-1\\\\1\\end{smallmatrix}\\right]$"
      ],
      "text/plain": [
       "⎡-0.924264068711929⎤\n",
       "⎢                  ⎥\n",
       "⎢-0.424264068711928⎥\n",
       "⎢                  ⎥\n",
       "⎢        -1        ⎥\n",
       "⎢                  ⎥\n",
       "⎣        1         ⎦"
      ]
     },
     "execution_count": 30,
     "metadata": {},
     "output_type": "execute_result"
    }
   ],
   "source": [
    "J_act*SymPy.SymMatrix([1 1 1 1])'"
   ]
  },
  {
   "cell_type": "code",
   "execution_count": 34,
   "id": "820a27ab-3f9d-464a-8142-265787e233ae",
   "metadata": {},
   "outputs": [
    {
     "data": {
      "text/plain": [
       "4×1 Matrix{SymMatrix}:\n",
       " SymMatrix(PyObject Matrix([\n",
       "[-0.712132034355964, -0.212132034355964,  0,  0],\n",
       "[-0.212132034355964, -0.212132034355964,  0,  0],\n",
       "[                 0,                  0, -1,  0],\n",
       "[                 1,                  1,  0, -1]]))\n",
       " SymMatrix(PyObject Matrix([\n",
       "[-0.712132034355964, -0.212132034355964,  0,  0],\n",
       "[-0.212132034355964, -0.212132034355964,  0,  0],\n",
       "[                 0,                  0, -1,  0],\n",
       "[                 1,                  1,  0, -1]]))\n",
       " SymMatrix(PyObject Matrix([\n",
       "[-0.712132034355964, -0.212132034355964,  0,  0],\n",
       "[-0.212132034355964, -0.212132034355964,  0,  0],\n",
       "[                 0,                  0, -1,  0],\n",
       "[                 1,                  1,  0, -1]]))\n",
       " SymMatrix(PyObject Matrix([\n",
       "[-0.712132034355964, -0.212132034355964,  0,  0],\n",
       "[-0.212132034355964, -0.212132034355964,  0,  0],\n",
       "[                 0,                  0, -1,  0],\n",
       "[                 1,                  1,  0, -1]]))"
      ]
     },
     "execution_count": 34,
     "metadata": {},
     "output_type": "execute_result"
    }
   ],
   "source": [
    "J_act*[1 1 1 1]'"
   ]
  },
  {
   "cell_type": "markdown",
   "id": "338fa02b-9b63-4f8c-a0dd-d1831afed81c",
   "metadata": {},
   "source": [
    "## もうちょい考える\n",
    "6軸ロボットの場合\n",
    "例えばこんな↓\n",
    "\n",
    "| $i$ | $a_i$ | $\\alpha_i$ | $d_i$ | $\\theta_i$ |\n",
    "| --- | ----- | ---------- | ----- | ---------- |\n",
    "| 1   | 0     | $\\pi/2$       | $d_1$    | $\\theta_1$ |\n",
    "| 2   | $-a_2$ | 0          | 0     | $\\theta_2$ |\n",
    "| 3   | $-a_3$ | 0      | 0 | $\\theta_3$         |\n",
    "|  4   |    0   |     $\\pi/2$         | $d_4$    |  $\\theta_4$          |\n",
    "|   5  |    0   |  $-\\pi/2$          |    $d_5$  |  $\\theta_5$          |\n",
    "| 6   | 0     | 0    | $d_6$     | $\\theta_6$ |"
   ]
  },
  {
   "cell_type": "code",
   "execution_count": 37,
   "id": "94ba3c04-e514-4cc9-9824-865854b033a4",
   "metadata": {},
   "outputs": [
    {
     "data": {
      "text/plain": [
       "(θ₁, θ₂, θ₃, θ₄, θ₅, θ₆, d₁, a₂, a₃, d₄, d₅, d₆)"
      ]
     },
     "execution_count": 37,
     "metadata": {},
     "output_type": "execute_result"
    }
   ],
   "source": [
    "@vars θ₁ θ₂ θ₃ θ₄ θ₅ θ₆ d₁ a₂ a₃ d₄ d₅ d₆"
   ]
  },
  {
   "cell_type": "code",
   "execution_count": 39,
   "id": "32e88c3d-7c2b-4fa4-b653-fcd6f31d6919",
   "metadata": {},
   "outputs": [
    {
     "data": {
      "text/latex": [
       "$\\left[ \\begin{array}{rrrr}\\cos{\\left(θ₁ \\right)}&- \\sin{\\left(θ₁ \\right)}&0&0\\\\0&0&-1&- d₁\\\\\\sin{\\left(θ₁ \\right)}&\\cos{\\left(θ₁ \\right)}&0&0\\\\0&0&0&1\\end{array}\\right]$\n"
      ],
      "text/plain": [
       "4×4 Matrix{Sym}:\n",
       " cos(θ₁)  -sin(θ₁)   0    0\n",
       "       0         0  -1  -d₁\n",
       " sin(θ₁)   cos(θ₁)   0    0\n",
       "       0         0   0    1"
      ]
     },
     "execution_count": 39,
     "metadata": {},
     "output_type": "execute_result"
    }
   ],
   "source": [
    "_⁰T₁=Sym[cos(θ₁) -sin(θ₁)  0  0;\n",
    "         0          0     -1 -d₁;\n",
    "         sin(θ₁)   cos(θ₁) 0  0;\n",
    "         0         0       0  1]"
   ]
  },
  {
   "cell_type": "code",
   "execution_count": 41,
   "id": "b5476e16-0b3b-413c-a467-cbe1ad10072b",
   "metadata": {},
   "outputs": [
    {
     "data": {
      "text/latex": [
       "$\\left[ \\begin{array}{rrrr}\\cos{\\left(θ₂ \\right)}&- \\sin{\\left(θ₂ \\right)}&0&- a₂\\\\\\sin{\\left(θ₂ \\right)}&\\cos{\\left(θ₂ \\right)}&0&0\\\\0&0&1&0\\\\0&0&0&1\\end{array}\\right]$\n"
      ],
      "text/plain": [
       "4×4 Matrix{Sym}:\n",
       " cos(θ₂)  -sin(θ₂)  0  -a₂\n",
       " sin(θ₂)   cos(θ₂)  0    0\n",
       "       0         0  1    0\n",
       "       0         0  0    1"
      ]
     },
     "execution_count": 41,
     "metadata": {},
     "output_type": "execute_result"
    }
   ],
   "source": [
    "_¹T₂ =Sym[cos(θ₂) -sin(θ₂)  0  -a₂;\n",
    "         sin(θ₂)   cos(θ₂)  0   0;\n",
    "         0          0       1   0;\n",
    "         0          0       0   1]"
   ]
  },
  {
   "cell_type": "code",
   "execution_count": 42,
   "id": "9f533d63-d274-4df4-92fc-5639e66758fc",
   "metadata": {},
   "outputs": [
    {
     "data": {
      "text/latex": [
       "$\\left[ \\begin{array}{rrrr}\\cos{\\left(θ₃ \\right)}&- \\sin{\\left(θ₃ \\right)}&0&- a₃\\\\\\sin{\\left(θ₃ \\right)}&\\cos{\\left(θ₃ \\right)}&0&0\\\\0&0&1&0\\\\0&0&0&1\\end{array}\\right]$\n"
      ],
      "text/plain": [
       "4×4 Matrix{Sym}:\n",
       " cos(θ₃)  -sin(θ₃)  0  -a₃\n",
       " sin(θ₃)   cos(θ₃)  0    0\n",
       "       0         0  1    0\n",
       "       0         0  0    1"
      ]
     },
     "execution_count": 42,
     "metadata": {},
     "output_type": "execute_result"
    }
   ],
   "source": [
    "_²T₃ = Sym[cos(θ₃) -sin(θ₃)  0  -a₃;\n",
    "         sin(θ₃)   cos(θ₃)  0   0;\n",
    "         0          0       1   0;\n",
    "         0          0       0   1]"
   ]
  },
  {
   "cell_type": "code",
   "execution_count": 43,
   "id": "4a99af0e-9736-4b09-869f-7aea502119e1",
   "metadata": {},
   "outputs": [
    {
     "data": {
      "text/latex": [
       "$\\left[ \\begin{array}{rrrr}\\cos{\\left(θ₄ \\right)}&- \\sin{\\left(θ₄ \\right)}&0&0\\\\0&0&-1&- d₄\\\\\\sin{\\left(θ₄ \\right)}&\\cos{\\left(θ₄ \\right)}&0&0\\\\0&0&0&1\\end{array}\\right]$\n"
      ],
      "text/plain": [
       "4×4 Matrix{Sym}:\n",
       " cos(θ₄)  -sin(θ₄)   0    0\n",
       "       0         0  -1  -d₄\n",
       " sin(θ₄)   cos(θ₄)   0    0\n",
       "       0         0   0    1"
      ]
     },
     "execution_count": 43,
     "metadata": {},
     "output_type": "execute_result"
    }
   ],
   "source": [
    "_³T₄ =Sym[cos(θ₄) -sin(θ₄)  0  0;\n",
    "         0          0     -1 -d₄;\n",
    "         sin(θ₄)   cos(θ₄) 0  0;\n",
    "         0         0       0  1]"
   ]
  },
  {
   "cell_type": "code",
   "execution_count": 45,
   "id": "aa4159ec-cde5-4436-912e-d2d734d8770a",
   "metadata": {},
   "outputs": [
    {
     "data": {
      "text/latex": [
       "$\\left[ \\begin{array}{rrrr}\\cos{\\left(θ₅ \\right)}&- \\sin{\\left(θ₅ \\right)}&0&0\\\\0&0&1&d₅\\\\- \\sin{\\left(θ₅ \\right)}&- \\cos{\\left(θ₅ \\right)}&0&0\\\\0&0&0&1\\end{array}\\right]$\n"
      ],
      "text/plain": [
       "4×4 Matrix{Sym}:\n",
       "  cos(θ₅)  -sin(θ₅)  0   0\n",
       "        0         0  1  d₅\n",
       " -sin(θ₅)  -cos(θ₅)  0   0\n",
       "        0         0  0   1"
      ]
     },
     "execution_count": 45,
     "metadata": {},
     "output_type": "execute_result"
    }
   ],
   "source": [
    "_⁴T₅ = Sym[cos(θ₅) -sin(θ₅)  0  0;\n",
    "         0          0      1   d₅;\n",
    "         -sin(θ₅)   -cos(θ₅) 0  0;\n",
    "         0         0       0  1]"
   ]
  },
  {
   "cell_type": "code",
   "execution_count": 48,
   "id": "23c0cfa1-600c-4a85-a6f3-b97e591f50ad",
   "metadata": {},
   "outputs": [
    {
     "data": {
      "text/latex": [
       "$\\left[ \\begin{array}{rrrr}\\cos{\\left(θ₆ \\right)}&- \\sin{\\left(θ₆ \\right)}&0&0\\\\\\sin{\\left(θ₆ \\right)}&\\cos{\\left(θ₆ \\right)}&0&0\\\\0&0&1&d₆\\\\0&0&0&1\\end{array}\\right]$\n"
      ],
      "text/plain": [
       "4×4 Matrix{Sym}:\n",
       " cos(θ₆)  -sin(θ₆)  0   0\n",
       " sin(θ₆)   cos(θ₆)  0   0\n",
       "       0         0  1  d₆\n",
       "       0         0  0   1"
      ]
     },
     "execution_count": 48,
     "metadata": {},
     "output_type": "execute_result"
    }
   ],
   "source": [
    "_⁵T₆ = Sym[cos(θ₆) -sin(θ₆)  0   0;\n",
    "         sin(θ₆)   cos(θ₆)  0   0;\n",
    "         0          0       1   d₆;\n",
    "         0          0       0   1]"
   ]
  },
  {
   "cell_type": "code",
   "execution_count": 50,
   "id": "3f38ce13-92bf-4edd-a992-f08b38ad302d",
   "metadata": {},
   "outputs": [
    {
     "data": {
      "text/latex": [
       "$\\left[\\begin{smallmatrix}- \\frac{\\cos{\\left(θ₁ + θ₂ + θ₃ - θ₅ - θ₆ \\right)}}{2} + \\frac{\\cos{\\left(θ₁ + θ₂ + θ₃ + θ₅ + θ₆ \\right)}}{2} + \\frac{\\cos{\\left(θ₁ + θ₂ + θ₃ - θ₄ - θ₅ - θ₆ \\right)}}{4} + \\frac{\\cos{\\left(θ₁ + θ₂ + θ₃ - θ₄ + θ₅ + θ₆ \\right)}}{4} + \\frac{\\cos{\\left(θ₁ + θ₂ + θ₃ + θ₄ - θ₅ - θ₆ \\right)}}{4} + \\frac{\\cos{\\left(θ₁ + θ₂ + θ₃ + θ₄ + θ₅ + θ₆ \\right)}}{4} & - \\sin{\\left(θ₅ + θ₆ \\right)} \\cos{\\left(θ₄ \\right)} \\cos{\\left(θ₁ + θ₂ + θ₃ \\right)} - \\sin{\\left(θ₁ + θ₂ + θ₃ \\right)} \\cos{\\left(θ₅ + θ₆ \\right)} & - \\sin{\\left(θ₄ \\right)} \\cos{\\left(θ₁ + θ₂ + θ₃ \\right)} & - a₂ \\cos{\\left(θ₁ \\right)} - a₃ \\cos{\\left(θ₁ + θ₂ \\right)} + d₄ \\sin{\\left(θ₁ + θ₂ + θ₃ \\right)} - d₅ \\sin{\\left(θ₄ \\right)} \\cos{\\left(θ₁ + θ₂ + θ₃ \\right)} - d₆ \\sin{\\left(θ₄ \\right)} \\cos{\\left(θ₁ + θ₂ + θ₃ \\right)}\\\\- \\sin{\\left(θ₄ \\right)} \\cos{\\left(θ₅ + θ₆ \\right)} & \\sin{\\left(θ₄ \\right)} \\sin{\\left(θ₅ + θ₆ \\right)} & - \\cos{\\left(θ₄ \\right)} & - d₁ - d₅ \\cos{\\left(θ₄ \\right)} - d₆ \\cos{\\left(θ₄ \\right)}\\\\\\sin{\\left(θ₅ + θ₆ \\right)} \\cos{\\left(θ₁ + θ₂ + θ₃ \\right)} + \\sin{\\left(θ₁ + θ₂ + θ₃ \\right)} \\cos{\\left(θ₄ \\right)} \\cos{\\left(θ₅ + θ₆ \\right)} & \\frac{\\cos{\\left(θ₁ + θ₂ + θ₃ - θ₅ - θ₆ \\right)}}{2} + \\frac{\\cos{\\left(θ₁ + θ₂ + θ₃ + θ₅ + θ₆ \\right)}}{2} - \\frac{\\cos{\\left(θ₁ + θ₂ + θ₃ - θ₄ - θ₅ - θ₆ \\right)}}{4} + \\frac{\\cos{\\left(θ₁ + θ₂ + θ₃ - θ₄ + θ₅ + θ₆ \\right)}}{4} - \\frac{\\cos{\\left(θ₁ + θ₂ + θ₃ + θ₄ - θ₅ - θ₆ \\right)}}{4} + \\frac{\\cos{\\left(θ₁ + θ₂ + θ₃ + θ₄ + θ₅ + θ₆ \\right)}}{4} & - \\sin{\\left(θ₄ \\right)} \\sin{\\left(θ₁ + θ₂ + θ₃ \\right)} & - a₂ \\sin{\\left(θ₁ \\right)} - a₃ \\sin{\\left(θ₁ + θ₂ \\right)} - d₄ \\cos{\\left(θ₁ + θ₂ + θ₃ \\right)} - d₅ \\sin{\\left(θ₄ \\right)} \\sin{\\left(θ₁ + θ₂ + θ₃ \\right)} - d₆ \\sin{\\left(θ₄ \\right)} \\sin{\\left(θ₁ + θ₂ + θ₃ \\right)}\\\\0 & 0 & 0 & 1\\end{smallmatrix}\\right]$"
      ],
      "text/plain": [
       "⎡  cos(θ₁ + θ₂ + θ₃ - θ₅ - θ₆)   cos(θ₁ + θ₂ + θ₃ + θ₅ + θ₆)   cos(θ₁ + θ₂ + θ\n",
       "⎢- ─────────────────────────── + ─────────────────────────── + ───────────────\n",
       "⎢               2                             2                               \n",
       "⎢                                                                             \n",
       "⎢                                                                             \n",
       "⎢                                                                             \n",
       "⎢                                                                             \n",
       "⎢                                                                sin(θ₅ + θ₆)⋅\n",
       "⎢                                                                             \n",
       "⎢                                                                             \n",
       "⎣                                                                             \n",
       "\n",
       "₃ - θ₄ - θ₅ - θ₆)   cos(θ₁ + θ₂ + θ₃ - θ₄ + θ₅ + θ₆)   cos(θ₁ + θ₂ + θ₃ + θ₄ -\n",
       "───────────────── + ──────────────────────────────── + ───────────────────────\n",
       "4                                  4                                  4       \n",
       "                                                                              \n",
       "            -sin(θ₄)⋅cos(θ₅ + θ₆)                                             \n",
       "                                                                              \n",
       "                                                                              \n",
       "cos(θ₁ + θ₂ + θ₃) + sin(θ₁ + θ₂ + θ₃)⋅cos(θ₄)⋅cos(θ₅ + θ₆)                    \n",
       "                                                                              \n",
       "                                                                              \n",
       "                      0                                                       \n",
       "\n",
       " θ₅ - θ₆)   cos(θ₁ + θ₂ + θ₃ + θ₄ + θ₅ + θ₆)                                  \n",
       "───────── + ────────────────────────────────                                  \n",
       "                           4                                                  \n",
       "                                                                              \n",
       "                                                                              \n",
       "                                                                              \n",
       "                                              cos(θ₁ + θ₂ + θ₃ - θ₅ - θ₆)   co\n",
       "                                              ─────────────────────────── + ──\n",
       "                                                           2                  \n",
       "                                                                              \n",
       "                                                                              \n",
       "\n",
       "                                                                              \n",
       "                              -sin(θ₅ + θ₆)⋅cos(θ₄)⋅cos(θ₁ + θ₂ + θ₃) - sin(θ₁\n",
       "                                                                              \n",
       "                                                                              \n",
       "                                                        sin(θ₄)⋅sin(θ₅ + θ₆)  \n",
       "                                                                              \n",
       "s(θ₁ + θ₂ + θ₃ + θ₅ + θ₆)   cos(θ₁ + θ₂ + θ₃ - θ₄ - θ₅ - θ₆)   cos(θ₁ + θ₂ + θ\n",
       "───────────────────────── - ──────────────────────────────── + ───────────────\n",
       "           2                               4                                  \n",
       "                                                                              \n",
       "                                                                  0           \n",
       "\n",
       "                                                                              \n",
       " + θ₂ + θ₃)⋅cos(θ₅ + θ₆)                                                      \n",
       "                                                                              \n",
       "                                                                              \n",
       "                                                                              \n",
       "                                                                              \n",
       "₃ - θ₄ + θ₅ + θ₆)   cos(θ₁ + θ₂ + θ₃ + θ₄ - θ₅ - θ₆)   cos(θ₁ + θ₂ + θ₃ + θ₄ +\n",
       "───────────────── - ──────────────────────────────── + ───────────────────────\n",
       "4                                  4                                  4       \n",
       "                                                                              \n",
       "                                                                              \n",
       "\n",
       "                                                                              \n",
       "           -sin(θ₄)⋅cos(θ₁ + θ₂ + θ₃)  -a₂⋅cos(θ₁) - a₃⋅cos(θ₁ + θ₂) + d₄⋅sin(\n",
       "                                                                              \n",
       "                                                                              \n",
       "                    -cos(θ₄)                                                  \n",
       "                                                                              \n",
       " θ₅ + θ₆)                                                                     \n",
       "─────────  -sin(θ₄)⋅sin(θ₁ + θ₂ + θ₃)  -a₂⋅sin(θ₁) - a₃⋅sin(θ₁ + θ₂) - d₄⋅cos(\n",
       "                                                                              \n",
       "                                                                              \n",
       "                       0                                                      \n",
       "\n",
       "                                                                           ⎤\n",
       "θ₁ + θ₂ + θ₃) - d₅⋅sin(θ₄)⋅cos(θ₁ + θ₂ + θ₃) - d₆⋅sin(θ₄)⋅cos(θ₁ + θ₂ + θ₃)⎥\n",
       "                                                                           ⎥\n",
       "                                                                           ⎥\n",
       "   -d₁ - d₅⋅cos(θ₄) - d₆⋅cos(θ₄)                                           ⎥\n",
       "                                                                           ⎥\n",
       "                                                                           ⎥\n",
       "θ₁ + θ₂ + θ₃) - d₅⋅sin(θ₄)⋅sin(θ₁ + θ₂ + θ₃) - d₆⋅sin(θ₄)⋅sin(θ₁ + θ₂ + θ₃)⎥\n",
       "                                                                           ⎥\n",
       "                                                                           ⎥\n",
       "                 1                                                         ⎦"
      ]
     },
     "execution_count": 50,
     "metadata": {},
     "output_type": "execute_result"
    }
   ],
   "source": [
    "_⁰T₆ = _⁰T₁ * _¹T₂ * _²T₃ * _³T₄ * _⁴T₅ * _⁵T₆\n",
    "_⁰T₆ = sympy.trigsimp((sympy.factor(_⁰T₆)))"
   ]
  },
  {
   "cell_type": "code",
   "execution_count": null,
   "id": "372defec-82d1-4d9e-9e0e-09f69fb84e58",
   "metadata": {},
   "outputs": [],
   "source": []
  }
 ],
 "metadata": {
  "jupytext": {
   "encoding": "# -*- coding: utf-8 -*-",
   "text_representation": {
    "extension": ".py",
    "format_name": "light",
    "format_version": "1.5",
    "jupytext_version": "1.13.2"
   }
  },
  "kernelspec": {
   "display_name": "Julia 1.6.3",
   "language": "julia",
   "name": "julia-1.6"
  },
  "language_info": {
   "file_extension": ".jl",
   "mimetype": "application/julia",
   "name": "julia",
   "version": "1.6.3"
  }
 },
 "nbformat": 4,
 "nbformat_minor": 5
}

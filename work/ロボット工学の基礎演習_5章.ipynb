{
 "cells": [
  {
   "cell_type": "code",
   "execution_count": 17,
   "id": "be86251b-c322-4bde-b170-4ed2cab42b49",
   "metadata": {},
   "outputs": [],
   "source": [
    "using Pkg\n",
    "using SymPy\n",
    "using LinearAlgebra"
   ]
  },
  {
   "cell_type": "markdown",
   "id": "d296154a-090a-4dc2-ab9e-4d55bb4ceb1f",
   "metadata": {},
   "source": [
    "# 5.1\n",
    "$\\theta$のとり方にクセがあるが気をつけて考えると\n",
    "$L = K - U$は"
   ]
  },
  {
   "cell_type": "code",
   "execution_count": 57,
   "id": "d1dee14b-926d-4678-adce-9b05ae065c95",
   "metadata": {},
   "outputs": [
    {
     "data": {
      "text/plain": [
       "L (generic function with 1 method)"
      ]
     },
     "execution_count": 57,
     "metadata": {},
     "output_type": "execute_result"
    }
   ],
   "source": [
    "L(θ₁, ᵈθ₁, d₂, ᵈd₂) = (1/2)*(m₁)* ((ᵈθ₁*L₁*cos(θ₁))^2+(ᵈθ₁*L₁*sin(θ₁))^2) + #リンク１の並進の運動エネルギ\n",
    "                        (1/2)*(m₂)* ((ᵈd₂*sin(θ₁)+ ᵈθ₁*d₂*cos(θ₁)- ᵈθ₁*L₂*cos(θ₁))^2+(- ᵈd₂*cos(θ₁)+ ᵈθ₁*d₂*sin(θ₁)- ᵈθ₁*L₂*sin(θ₁))^2)+ #リンク2の並進エネルギ\n",
    "                        (1/2) * I₁* ᵈθ₁^2 + (1/2) * I₂ * ᵈθ₁^2 - #回転の運動エネルギ　Iは質点中心のイナーシャ\n",
    "                        (-m₁*g*L₁*cos(θ₁) - m₂*g*(d₂-L₂)*cos(θ₁))　#ポテンシャルエネルギ"
   ]
  },
  {
   "cell_type": "code",
   "execution_count": 64,
   "id": "d644476c-3b55-44d3-a7e8-8b4d461af5a2",
   "metadata": {},
   "outputs": [
    {
     "data": {
      "text/latex": [
       "$0.5 I₁ ᵈθ₁^{2} + 0.5 I₂ ᵈθ₁^{2} + L₁ g m₁ \\cos{\\left(θ₁ \\right)} + g m₂ \\left(- L₂ + d₂\\right) \\cos{\\left(θ₁ \\right)} + 0.5 m₁ \\left(L₁^{2} ᵈθ₁^{2} \\sin^{2}{\\left(θ₁ \\right)} + L₁^{2} ᵈθ₁^{2} \\cos^{2}{\\left(θ₁ \\right)}\\right) + 0.5 m₂ \\left(\\left(- L₂ ᵈθ₁ \\sin{\\left(θ₁ \\right)} + d₂ ᵈθ₁ \\sin{\\left(θ₁ \\right)} - ᵈd₂ \\cos{\\left(θ₁ \\right)}\\right)^{2} + \\left(- L₂ ᵈθ₁ \\cos{\\left(θ₁ \\right)} + d₂ ᵈθ₁ \\cos{\\left(θ₁ \\right)} + ᵈd₂ \\sin{\\left(θ₁ \\right)}\\right)^{2}\\right)$"
      ],
      "text/plain": [
       "          2             2                                                     \n",
       "0.5⋅I₁⋅ᵈθ₁  + 0.5⋅I₂⋅ᵈθ₁  + L₁⋅g⋅m₁⋅cos(θ₁) + g⋅m₂⋅(-L₂ + d₂)⋅cos(θ₁) + 0.5⋅m₁\n",
       "\n",
       " ⎛  2    2    2         2    2    2    ⎞          ⎛                           \n",
       "⋅⎝L₁ ⋅ᵈθ₁ ⋅sin (θ₁) + L₁ ⋅ᵈθ₁ ⋅cos (θ₁)⎠ + 0.5⋅m₂⋅⎝(-L₂⋅ᵈθ₁⋅sin(θ₁) + d₂⋅ᵈθ₁⋅s\n",
       "\n",
       "                     2                                                   2⎞\n",
       "in(θ₁) - ᵈd₂⋅cos(θ₁))  + (-L₂⋅ᵈθ₁⋅cos(θ₁) + d₂⋅ᵈθ₁⋅cos(θ₁) + ᵈd₂⋅sin(θ₁)) ⎠"
      ]
     },
     "execution_count": 64,
     "metadata": {},
     "output_type": "execute_result"
    }
   ],
   "source": [
    "@vars m₁ m₂ L₁ L₂ θ₁ ᵈθ₁ d₂ ᵈd₂ g I₁ I₂\n",
    "F = L(θ₁, ᵈθ₁, d₂, ᵈd₂)"
   ]
  },
  {
   "cell_type": "markdown",
   "id": "0a9ebfd5-f82e-4dc4-928d-af12f5bd535b",
   "metadata": {},
   "source": [
    "この$L$より\n",
    "$ \\frac{dL}{d\\theta_1}$を計算する"
   ]
  },
  {
   "cell_type": "code",
   "execution_count": 60,
   "id": "df3cb3cf-3090-4a48-b342-2ddfc7912662",
   "metadata": {},
   "outputs": [
    {
     "data": {
      "text/latex": [
       "$- g \\left(L₁ m₁ - L₂ m₂ + d₂ m₂\\right) \\sin{\\left(θ₁ \\right)}$"
      ],
      "text/plain": [
       "-g⋅(L₁⋅m₁ - L₂⋅m₂ + d₂⋅m₂)⋅sin(θ₁)"
      ]
     },
     "execution_count": 60,
     "metadata": {},
     "output_type": "execute_result"
    }
   ],
   "source": [
    "sympy.trigsimp((sympy.factor(diff(F, θ₁))))"
   ]
  },
  {
   "cell_type": "markdown",
   "id": "c9e0d8bb-3843-40d3-887e-269270601d74",
   "metadata": {},
   "source": [
    "続いて$\\frac{dL}{d\\dot{\\theta_1}}$を計算する"
   ]
  },
  {
   "cell_type": "code",
   "execution_count": 61,
   "id": "d2f7b0b2-18bb-484e-a952-038d8a52bd83",
   "metadata": {},
   "outputs": [
    {
     "data": {
      "text/latex": [
       "$ᵈθ₁ \\left(1.0 I₁ + 1.0 I₂ + L₁^{2} m₁ + m₂ \\left(L₂ - d₂\\right)^{2}\\right)$"
      ],
      "text/plain": [
       "    ⎛                    2                  2⎞\n",
       "ᵈθ₁⋅⎝1.0⋅I₁ + 1.0⋅I₂ + L₁ ⋅m₁ + m₂⋅(L₂ - d₂) ⎠"
      ]
     },
     "execution_count": 61,
     "metadata": {},
     "output_type": "execute_result"
    }
   ],
   "source": [
    "simplify(diff(F,ᵈθ₁))"
   ]
  },
  {
   "cell_type": "markdown",
   "id": "acfd4e31-2514-4ff2-8055-a4188be7bb80",
   "metadata": {},
   "source": [
    "よって$\\frac{d}{dt} \\left( \\frac{dL}{d\\dot{\\theta_1}} \\right)=\\left( I_1 +I_2 +m_1L_1^2 + m_2L_2^2 + m_2(d_2^2-2L_2d_2) \\right)\\ddot{\\theta}_1+2m_2(d_2-L_2)\\dot{\\theta}_1\\dot{d}_2$\n",
    "\n",
    "以上より\n",
    "$$\n",
    "\\left( I_1 +I_2 +m_1L_1^2 + m_2L_2^2 + m_2(d_2^2-2L_2d_2) \\right)\\ddot{\\theta}_1+2m_2(d_2-L_2)\\dot{\\theta}_1\\dot{d}_2+g \\left( L_1m_1+(d_2-L_2)m_2 \\right) \\sin \\theta_1 = \\tau_1\n",
    "$$"
   ]
  },
  {
   "cell_type": "markdown",
   "id": "d2bfabec-4714-495e-836d-ed1c37e25889",
   "metadata": {},
   "source": [
    "更に$ \\frac{dL}{d d_2}$を計算する"
   ]
  },
  {
   "cell_type": "code",
   "execution_count": 62,
   "id": "50af2d17-0eb6-49a1-9c62-89316ead203d",
   "metadata": {},
   "outputs": [
    {
     "data": {
      "text/latex": [
       "$1.0 m₂ \\left(- L₂ ᵈθ₁^{2} + d₂ ᵈθ₁^{2} + g \\cos{\\left(θ₁ \\right)}\\right)$"
      ],
      "text/plain": [
       "       ⎛        2         2            ⎞\n",
       "1.0⋅m₂⋅⎝- L₂⋅ᵈθ₁  + d₂⋅ᵈθ₁  + g⋅cos(θ₁)⎠"
      ]
     },
     "execution_count": 62,
     "metadata": {},
     "output_type": "execute_result"
    }
   ],
   "source": [
    "sympy.trigsimp((sympy.factor(diff(F, d₂))))"
   ]
  },
  {
   "cell_type": "markdown",
   "id": "f4301fe3-e559-47bb-ac51-a227b13b9203",
   "metadata": {},
   "source": [
    "続いて$\\frac{dL}{d\\dot{d_2}}$を計算する"
   ]
  },
  {
   "cell_type": "code",
   "execution_count": 63,
   "id": "39ec1c42-9a77-4b9e-a576-d91c802b5616",
   "metadata": {},
   "outputs": [
    {
     "data": {
      "text/latex": [
       "$1.0 m₂ ᵈd₂$"
      ],
      "text/plain": [
       "1.0⋅m₂⋅ᵈd₂"
      ]
     },
     "execution_count": 63,
     "metadata": {},
     "output_type": "execute_result"
    }
   ],
   "source": [
    "sympy.trigsimp((sympy.factor(diff(F, ᵈd₂))))"
   ]
  },
  {
   "cell_type": "markdown",
   "id": "c98ceff0-b977-4a83-a5c8-ae52b25b4ef4",
   "metadata": {},
   "source": [
    "よって$\\frac{d}{dt} \\left( \\frac{dL}{d\\dot{d_2}} \\right)=m_2\\ddot{d_2}$\n",
    "\n",
    "以上より\n",
    "$$\n",
    "m_2\\ddot{d_2}+m_2 \\left( (L_2-d_2) \\dot{\\theta_1}^2 - g \\cos \\theta_1 \\right) = f_2\n",
    "$$"
   ]
  },
  {
   "cell_type": "markdown",
   "id": "e1c54dbb-e555-4448-9ca2-69881eb1e33a",
   "metadata": {},
   "source": [
    "# 5.2"
   ]
  },
  {
   "cell_type": "code",
   "execution_count": 98,
   "id": "d176fc13-273c-4e8b-808f-ed4f0985f7ee",
   "metadata": {},
   "outputs": [
    {
     "data": {
      "text/plain": [
       "(g, θ₁, ᵈθ₁, ᵈᵈθ₁, d₂, ᵈd₂, ᵈᵈd₂, L₁, L₂, I_1, I_2, m₁, m₂)"
      ]
     },
     "execution_count": 98,
     "metadata": {},
     "output_type": "execute_result"
    }
   ],
   "source": [
    "@vars g θ₁ ᵈθ₁ ᵈᵈθ₁ d₂ ᵈd₂ ᵈᵈd₂ L₁ L₂ I_1 I_2 m₁ m₂"
   ]
  },
  {
   "cell_type": "code",
   "execution_count": 109,
   "id": "c4827780-c892-487d-acdd-8db3fdc22c9a",
   "metadata": {},
   "outputs": [
    {
     "data": {
      "text/plain": [
       "3-element Vector{Int64}:\n",
       " 0\n",
       " 0\n",
       " 1"
      ]
     },
     "execution_count": 109,
     "metadata": {},
     "output_type": "execute_result"
    }
   ],
   "source": [
    "_⁰R₁ = [cos(θ₁) -sin(θ₁) 0; sin(θ₁) cos(θ₁) 0; 0 0 1]\n",
    "_¹R₂ = [1 0 0; 0 0 -1; 0 1 0]\n",
    "_⁰p₁ = [0; 0; 0]\n",
    "_¹p₂ = [0; -d₂; 0]\n",
    "_¹s₁ = [0; -L₁; 0]\n",
    "_²s₂ = [0; 0; -L₂]\n",
    "_¹I₁ = [1 1 1;1 1 1;1 1 I_1]\n",
    "_²I₂ = [1 1 1;1 I_2 1;1 1 1]\n",
    "_³f₃ = [0;0;0]\n",
    "_³n₃ = [0;0;0]\n",
    "_ᵈ⁰v₀ = [0; g; 0]\n",
    "_⁰ω₀ = [0;0;0]\n",
    "_ᵈ⁰ω₀ = [0;0;0]\n",
    "z₀ = [0; 0; 1]"
   ]
  },
  {
   "cell_type": "code",
   "execution_count": 97,
   "id": "f5792be4-e2d9-4d8a-90b9-c043c1cecd0b",
   "metadata": {},
   "outputs": [
    {
     "data": {
      "text/latex": [
       "$\\left[ \\begin{array}{r}g \\sin{\\left(θ₁ \\right)}\\\\g \\cos{\\left(θ₁ \\right)}\\\\0\\end{array} \\right]$\n"
      ],
      "text/plain": [
       "3-element Vector{Sym}:\n",
       " g⋅sin(θ₁)\n",
       " g⋅cos(θ₁)\n",
       "         0"
      ]
     },
     "execution_count": 97,
     "metadata": {},
     "output_type": "execute_result"
    }
   ],
   "source": [
    "_¹ω₁ = _⁰R₁'*_⁰ω₀ + ᵈθ₁ .* z₀\n",
    "_ᵈ¹ω₁ = _⁰R₁'*_ᵈ⁰ω₀ + ᵈᵈθ₁ .* z₀\n",
    "_ᵈ¹v₁ = _⁰R₁.T*(_ᵈ⁰v₀ + cross(_ᵈ⁰ω₀,_⁰p₁) + cross(_⁰ω₀,cross(_⁰ω₀,_⁰p₁)))"
   ]
  },
  {
   "cell_type": "code",
   "execution_count": 90,
   "id": "d852b8ac-501d-456b-b1e8-b548ec47cb61",
   "metadata": {},
   "outputs": [
    {
     "data": {
      "text/latex": [
       "$\\left[ \\begin{array}{r}d₂ ᵈᵈθ₁ + g \\sin{\\left(θ \\right)} + 2 ᵈd₂ ᵈθ₁\\\\0\\\\- d₂ ᵈθ₁^{2} - g \\cos{\\left(θ \\right)} + ᵈᵈd₂\\end{array} \\right]$\n"
      ],
      "text/plain": [
       "3-element Vector{Sym}:\n",
       " d₂⋅ᵈᵈθ₁ + g⋅sin(θ) + 2⋅ᵈd₂⋅ᵈθ₁\n",
       "                              0\n",
       "    -d₂*ᵈθ₁^2 - g*cos(θ) + ᵈᵈd₂"
      ]
     },
     "execution_count": 90,
     "metadata": {},
     "output_type": "execute_result"
    }
   ],
   "source": [
    "_²ω₂ = _¹R₂'*_¹ω₁\n",
    "_ᵈ²ω₂ = _¹R₂'*_ᵈ¹ω₁\n",
    "_ᵈ²v₂ = _¹R₂'*(vd121 + cross(d_ome1,p122)+ cross(ome1,cross(ome1,p122))) + [0;0;ᵈᵈd₂]+  cross((2 .*(_¹R₂'*ome1)), [0; 0; ᵈd₂])"
   ]
  },
  {
   "cell_type": "code",
   "execution_count": 111,
   "id": "2a793604-d372-4988-8c00-ebc6b0d007d6",
   "metadata": {},
   "outputs": [
    {
     "data": {
      "text/latex": [
       "$L₂ m₂ ᵈθ₁^{2} + m₂ \\left(- d₂ ᵈθ₁^{2} - g \\cos{\\left(θ \\right)} + ᵈᵈd₂\\right)$"
      ],
      "text/plain": [
       "         2      ⎛        2                  ⎞\n",
       "L₂⋅m₂⋅ᵈθ₁  + m₂⋅⎝- d₂⋅ᵈθ₁  - g⋅cos(θ) + ᵈᵈd₂⎠"
      ]
     },
     "execution_count": 111,
     "metadata": {},
     "output_type": "execute_result"
    }
   ],
   "source": [
    "_²f₂ = m₂*_ᵈ²v₂ + cross(_ᵈ²ω₂,m₂*_²s₂)+cross(_²ω₂,cross(_²ω₂,m₂*_²s₂))\n",
    "_²n₂ = _²I₂ * _ᵈ²ω₂ + cross(_²ω₂,_²I₂*_²ω₂) + cross(m₂*_²s₂, _ᵈ²v₂)\n",
    "f₂ = z₀' * _²f₂"
   ]
  },
  {
   "cell_type": "code",
   "execution_count": 113,
   "id": "d578154f-a692-4f94-8e27-644a5a32de8b",
   "metadata": {},
   "outputs": [
    {
     "data": {
      "text/latex": [
       "$I_{1} ᵈᵈθ₁ + I_{2} ᵈᵈθ₁ + L₁ g m₁ \\sin{\\left(θ₁ \\right)} - L₂ m₂ \\left(d₂ ᵈᵈθ₁ + g \\sin{\\left(θ \\right)} + 2 ᵈd₂ ᵈθ₁\\right) - d₂ m₂ \\left(L₂ ᵈᵈθ₁ - d₂ ᵈᵈθ₁ - g \\sin{\\left(θ \\right)} - 2 ᵈd₂ ᵈθ₁\\right)$"
      ],
      "text/plain": [
       "I₁⋅ᵈᵈθ₁ + I₂⋅ᵈᵈθ₁ + L₁⋅g⋅m₁⋅sin(θ₁) - L₂⋅m₂⋅(d₂⋅ᵈᵈθ₁ + g⋅sin(θ) + 2⋅ᵈd₂⋅ᵈθ₁) -\n",
       " d₂⋅m₂⋅(L₂⋅ᵈᵈθ₁ - d₂⋅ᵈᵈθ₁ - g⋅sin(θ) - 2⋅ᵈd₂⋅ᵈθ₁)"
      ]
     },
     "execution_count": 113,
     "metadata": {},
     "output_type": "execute_result"
    }
   ],
   "source": [
    "_¹f₁ = m₁* _ᵈ¹v₁ + cross(_ᵈ¹ω₁, m₁*_¹s₁) + cross(_¹ω₁, cross(_¹ω₁, m₁*_¹s₁)) + _¹R₂ * _²f₂\n",
    "_¹n₁ = _¹I₁ * _ᵈ¹ω₁ + cross(_¹ω₁, _¹I₁*_¹ω₁) + cross(m₁*_¹s₁, _ᵈ¹v₁) + cross(_¹p₂, _¹R₂*_²f₂) + _¹R₂*_²n₂\n",
    "τ₁ = simplify(z₀' * _¹n₁)"
   ]
  },
  {
   "cell_type": "code",
   "execution_count": null,
   "id": "182a3374-14f3-44da-ae0e-aef4f89ee591",
   "metadata": {},
   "outputs": [],
   "source": []
  }
 ],
 "metadata": {
  "jupytext": {
   "encoding": "# -*- coding: utf-8 -*-",
   "text_representation": {
    "extension": ".py",
    "format_name": "light",
    "format_version": "1.5",
    "jupytext_version": "1.13.2"
   }
  },
  "kernelspec": {
   "display_name": "Julia 1.6.3",
   "language": "julia",
   "name": "julia-1.6"
  },
  "language_info": {
   "file_extension": ".jl",
   "mimetype": "application/julia",
   "name": "julia",
   "version": "1.6.3"
  }
 },
 "nbformat": 4,
 "nbformat_minor": 5
}
